{
 "cells": [
  {
   "cell_type": "markdown",
   "id": "172e7822",
   "metadata": {},
   "source": [
    "## 1. Resolve K, R, t and K', R', t' from P and P'"
   ]
  },
  {
   "cell_type": "code",
   "execution_count": 1,
   "id": "81fd58d4",
   "metadata": {},
   "outputs": [],
   "source": [
    "import pygco\n",
    "import numpy as np\n",
    "import cv2\n",
    "from PIL import Image\n",
    "from pylab import *\n",
    "import matplotlib as mpl\n",
    "import matplotlib.pyplot as plt\n",
    "%matplotlib inline\n",
    "%config InlineBackend.figure_format = 'retina'\n",
    "DIST_NUM = 45\n",
    "mLambda = 10"
   ]
  },
  {
   "cell_type": "code",
   "execution_count": 2,
   "id": "e016c8db",
   "metadata": {},
   "outputs": [
    {
     "name": "stdout",
     "output_type": "stream",
     "text": [
      "[[1.22122708e+03 0.00000000e+00 4.79500000e+02]\n",
      " [0.00000000e+00 1.22122708e+03 2.69500000e+02]\n",
      " [0.00000000e+00 0.00000000e+00 1.00000000e+00]\n",
      " [1.00000000e+00 0.00000000e+00 0.00000000e+00]\n",
      " [0.00000000e+00 1.00000000e+00 0.00000000e+00]\n",
      " [0.00000000e+00 0.00000000e+00 1.00000000e+00]\n",
      " [0.00000000e+00 0.00000000e+00 0.00000000e+00]] [[ 1.22122708e+03  0.00000000e+00  4.79500000e+02]\n",
      " [ 0.00000000e+00  1.22122708e+03  2.69500000e+02]\n",
      " [ 0.00000000e+00  0.00000000e+00  1.00000000e+00]\n",
      " [ 9.99881349e-01  1.48994942e-02  3.91069890e-03]\n",
      " [-1.48907594e-02  9.99886588e-01 -2.25326640e-03]\n",
      " [-3.94382790e-03  2.19476580e-03  9.99989815e-01]\n",
      " [-9.99097938e+00  2.45174215e-01  1.65083267e-01]]\n"
     ]
    }
   ],
   "source": [
    "P = np.array([[1221.2270770,0.0000000,479.5000000],\n",
    "             [0.0000000,1221.2270770,269.5000000],\n",
    "             [0.0000000,0.0000000,1.0000000],\n",
    "             [1.0000000000,0.0000000000,0.0000000000],\n",
    "             [0.0000000000,1.0000000000,0.0000000000],\n",
    "             [0.0000000000,0.0000000000,1.0000000000],\n",
    "             [0.0000000000,0.0000000000,0.0000000000]])\n",
    "Pp = np.array([[1221.2270770,0.0000000,479.5000000],\n",
    "               [0.0000000,1221.2270770,269.5000000],\n",
    "               [0.0000000,0.0000000,1.0000000],\n",
    "               [0.9998813487,0.0148994942,0.0039106989],\n",
    "               [-0.0148907594,0.9998865876,-0.0022532664],\n",
    "               [-0.0039438279,0.0021947658,0.9999898146],\n",
    "               [-9.9909793759,0.2451742154,0.1650832670]])\n",
    "print(P, Pp)"
   ]
  },
  {
   "cell_type": "code",
   "execution_count": 3,
   "id": "feba8ef1",
   "metadata": {},
   "outputs": [],
   "source": [
    "# def resolveMatrix(P):\n",
    "#     # Do RQ decomposition:\n",
    "#     K, R = linalg.rq(P)\n",
    "#     KInverse = linalg.inv(K)\n",
    "#     t = KInverse.dot(P[:, -1])\n",
    "#     return K, R, t"
   ]
  },
  {
   "cell_type": "code",
   "execution_count": 4,
   "id": "b00f6d35",
   "metadata": {},
   "outputs": [],
   "source": [
    "# resolveMatrix(np.array([[2,2],[1,1]]))"
   ]
  },
  {
   "cell_type": "markdown",
   "id": "cc5ac3cd",
   "metadata": {},
   "source": [
    "## 2. Find X' from the Camera Matrices, and Do Graph Cut"
   ]
  },
  {
   "cell_type": "markdown",
   "id": "cb841614",
   "metadata": {},
   "source": [
    "Disparity is the times of et, thus, Disparities might need to be float for accuracy."
   ]
  },
  {
   "cell_type": "markdown",
   "id": "105c615c",
   "metadata": {},
   "source": [
    "# generate a number of disparities as labels\n",
    "def setDisparities(imgWidth, nDist):\n",
    "    # Dist might need to be float\n",
    "    distStep = int(imgWidth/nDist)\n",
    "    dists = np.array(range(0, imgWidth, distStep))\n",
    "    for eachDist in dists:\n",
    "        if(eachDist!=0):\n",
    "            eachDist-=1\n",
    "    return dists"
   ]
  },
  {
   "cell_type": "code",
   "execution_count": 5,
   "id": "de5cb3b4",
   "metadata": {},
   "outputs": [],
   "source": [
    "# generate a number of disparities as labels\n",
    "def setDisparities1(maxDist, distStep):\n",
    "    dists = np.array(range(0, maxDist, distStep))\n",
    "    return dists"
   ]
  },
  {
   "cell_type": "code",
   "execution_count": 6,
   "id": "5ea48217",
   "metadata": {},
   "outputs": [],
   "source": [
    "def getRgbDist(rgb1, rgb2):\n",
    "    if(rgb1[0] > rgb2[0]):      \n",
    "        rDiff = rgb1[0] - rgb2[0]\n",
    "    else:\n",
    "        rDiff = rgb2[0] - rgb1[0]\n",
    "    if(rgb1[1] > rgb2[1]):      \n",
    "        gDiff = rgb1[1] - rgb2[1]\n",
    "    else:\n",
    "        gDiff = rgb2[1] - rgb1[1]\n",
    "    if(rgb1[2] > rgb2[2]):      \n",
    "        bDiff = rgb1[2] - rgb2[2]\n",
    "    else:\n",
    "        bDiff = rgb2[2] - rgb1[2]\n",
    "#     print((rDiff/3 + gDiff/3 + bDiff/3))\n",
    "    return ((rDiff/3 + gDiff/3 + bDiff/3))\n",
    "        "
   ]
  },
  {
   "cell_type": "code",
   "execution_count": 7,
   "id": "923525b2",
   "metadata": {},
   "outputs": [],
   "source": [
    "def buildGraphFromImages(img1, img2, dists, P, Pp):\n",
    "    imgHeight = img1.shape[0] # range of vertical rows\n",
    "    imgWidth = img1.shape[1] # range of horizontal columns\n",
    "    \n",
    "    nDists= dists.shape[0]\n",
    "    # decompose P and P'\n",
    "    K, R, T = P[0:3,:], P[3:6, :], P[-1, :]\n",
    "    Kp, Rp, Tp = Pp[0:3,:], Pp[3:6, :], Pp[-1, :]\n",
    "    mat2 = Kp.dot(np.transpose(Rp))\n",
    "    mat1 = mat2.dot(R).dot(np.linalg.inv(K))\n",
    "    mat3 = T-Tp\n",
    "    \n",
    "    #     print(Kp, Rp, Tp)\n",
    "    # get prior term matrix/ pairwiseCost:\n",
    "    pairwiseCost = np.zeros((nDists, nDists))\n",
    "    for i in range(0, nDists):\n",
    "        for j in range(0, nDists):\n",
    "#             pairwiseCost[i][j] = getDist(dists[i], dists[j])\n",
    "            pairwiseCost[i][j] = abs(dists[i]-dists[j])\n",
    "    print(pairwiseCost)\n",
    "    pairwiseCost = np.zeros((nDists, nDists))\n",
    "    # get data term: edges, edgeWeights, unaryCosts\n",
    "    nNodes = imgHeight*imgWidth\n",
    "    nEdges = (2*imgHeight*imgWidth-imgHeight-imgWidth)\n",
    "    \n",
    "    edges = np.zeros((nEdges, 2))\n",
    "    edgeWeights = np.ones((nEdges))\n",
    "    unaryCosts = np.ones((nNodes, nDists))*(255)\n",
    "    print(unaryCosts)\n",
    "    \n",
    "    # data cost /= smoothness prior\n",
    "    # for each pixel x' on img1, get corresponded x'.\n",
    "    edgeIndex = 0;\n",
    "    for r in range(0, imgHeight):\n",
    "        for c in range(0, imgWidth):\n",
    "            # build the graph from right and bottom neighbor to all pixels\n",
    "            nodeNo = r*imgWidth+c\n",
    "            rightNodeNo = nodeNo+1\n",
    "            bottomNodeNo = nodeNo+imgWidth\n",
    "            if(rightNodeNo < nNodes and c < imgWidth-1):\n",
    "                edges[edgeIndex,:] = np.array([nodeNo, rightNodeNo])\n",
    "                edgeIndex+=1\n",
    "            if(bottomNodeNo < nNodes and r < imgHeight-1):\n",
    "                edges[edgeIndex,:] = np.array([nodeNo, bottomNodeNo])\n",
    "                edgeIndex+=1\n",
    "            # unary cost /= data term:\n",
    "            for i in range(0, nDists):\n",
    "                dist = dists[i]\n",
    "                # make inhomogeneous coordinate of x:\n",
    "                x = np.array([c, r, 1])\n",
    "                # get x'\n",
    "#                 temp1 = linalg.inv(K).dot(x)\n",
    "#                 temp2 = R.dot(temp1)\n",
    "#                 temp1 = linalg.inv(Rp).dot(temp2)\n",
    "                xInfinite = mat1.dot(x)\n",
    "                ep = dist*mat2.dot(mat3)\n",
    "                xp = xInfinite + ep\n",
    "                # normalize x'\n",
    "                xp = xp/xp[2]\n",
    "                # calculate distance between RGBx and RGBx' as\n",
    "#                 print(\"xp:\")\n",
    "#                 print(xp)\n",
    "                if xp[0] < imgHeight and xp[1] < imgWidth:\n",
    "                    leftNodeRGB = img1[r, c]\n",
    "                    rightNodeRGB = img2[int(xp[0]), int(xp[1])]\n",
    "                    unaryCosts[nodeNo,i] = getRgbDist(leftNodeRGB, rightNodeRGB)\n",
    "        # \n",
    "    return edges, edgeWeights, unaryCosts, pairwiseCost"
   ]
  },
  {
   "cell_type": "code",
   "execution_count": 8,
   "id": "33ae3f26",
   "metadata": {},
   "outputs": [],
   "source": [
    "# form an image from lables:\n",
    "def formImg(orgImg, dists, labels):\n",
    "    imgHeight = orgImg.shape[0]\n",
    "    imgWidth = orgImg.shape[1]\n",
    "    output = np.zeros((imgHeight, imgWidth, 1))\n",
    "    grayScaleStep = 255/dists.shape[0]\n",
    "    for r in range(0, imgHeight):\n",
    "        for c in range(0, imgWidth):\n",
    "            label = labels[r*imgWidth+c]\n",
    "            output[r][c] = label*grayScaleStep\n",
    "    return output"
   ]
  },
  {
   "cell_type": "code",
   "execution_count": 9,
   "id": "5d42877c",
   "metadata": {},
   "outputs": [],
   "source": [
    "leftImg = cv2.imread('test00.jpg')\n",
    "leftImg = cv2.cvtColor(leftImg, cv2.COLOR_BGR2RGB)\n",
    "rightImg = cv2.imread('test09.jpg')\n",
    "rightImg = cv2.cvtColor(rightImg, cv2.COLOR_BGR2RGB)"
   ]
  },
  {
   "cell_type": "code",
   "execution_count": 10,
   "id": "2107c7be",
   "metadata": {},
   "outputs": [],
   "source": [
    "MAX_DIST = 64\n",
    "DIST_STEP = 1"
   ]
  },
  {
   "cell_type": "code",
   "execution_count": 11,
   "id": "934e11bf",
   "metadata": {},
   "outputs": [
    {
     "name": "stdout",
     "output_type": "stream",
     "text": [
      "[ 0  1  2  3  4  5  6  7  8  9 10 11 12 13 14 15 16 17 18 19 20 21 22 23\n",
      " 24 25 26 27 28 29 30 31 32 33 34 35 36 37 38 39 40 41 42 43 44 45 46 47\n",
      " 48 49 50 51 52 53 54 55 56 57 58 59 60 61 62 63]\n"
     ]
    }
   ],
   "source": [
    "dists = setDisparities1(MAX_DIST, DIST_STEP)\n",
    "print(dists)"
   ]
  },
  {
   "cell_type": "code",
   "execution_count": 12,
   "id": "d322a2ba",
   "metadata": {},
   "outputs": [],
   "source": [
    "# form an image from lables:\n",
    "def formImg1(orgImg, dists, labels):\n",
    "    imgHeight = orgImg.shape[0]\n",
    "    imgWidth = orgImg.shape[1]\n",
    "    output = np.zeros((imgHeight, imgWidth, 1))\n",
    "    grayScaleStep = 255/dists.shape[0]\n",
    "    print(grayScaleStep)\n",
    "    for r in range(0, imgHeight):\n",
    "        for c in range(0, imgWidth):\n",
    "            label = labels[r*imgWidth+c]\n",
    "#             print(label)\n",
    "#             print(label*grayScaleStep)\n",
    "            output[r][c] = (label*grayScaleStep)/255\n",
    "    return output"
   ]
  },
  {
   "cell_type": "code",
   "execution_count": 13,
   "id": "8e4c9226",
   "metadata": {},
   "outputs": [
    {
     "name": "stdout",
     "output_type": "stream",
     "text": [
      "[[ 0.  1.  2. ... 61. 62. 63.]\n",
      " [ 1.  0.  1. ... 60. 61. 62.]\n",
      " [ 2.  1.  0. ... 59. 60. 61.]\n",
      " ...\n",
      " [61. 60. 59. ...  0.  1.  2.]\n",
      " [62. 61. 60. ...  1.  0.  1.]\n",
      " [63. 62. 61. ...  2.  1.  0.]]\n",
      "[[255. 255. 255. ... 255. 255. 255.]\n",
      " [255. 255. 255. ... 255. 255. 255.]\n",
      " [255. 255. 255. ... 255. 255. 255.]\n",
      " ...\n",
      " [255. 255. 255. ... 255. 255. 255.]\n",
      " [255. 255. 255. ... 255. 255. 255.]\n",
      " [255. 255. 255. ... 255. 255. 255.]]\n",
      "3.984375\n"
     ]
    },
    {
     "data": {
      "image/png": "[encoded data removed]",
      "text/plain": [
       "<Figure size 432x288 with 1 Axes>"
      ]
     },
     "metadata": {
      "image/png": {
       "height": 222,
       "width": 375
      },
      "needs_background": "light"
     },
     "output_type": "display_data"
    },
    {
     "name": "stdout",
     "output_type": "stream",
     "text": [
      "[0 0 0 ... 0 0 0]\n"
     ]
    }
   ],
   "source": [
    "edges, edgeWeights, unaryCosts, pairwiseCost  = buildGraphFromImages(leftImg, rightImg, dists, P, Pp)\n",
    "labels = pygco.cut_general_graph(edges, mLambda*edgeWeights, unaryCosts, 1*pairwiseCost, n_iter=1)\n",
    "output = formImg1(leftImg, dists, labels)\n",
    "plt.imshow(output/255, cmap = \"gray\")\n",
    "plt.show()\n",
    "print(labels)"
   ]
  },
  {
   "cell_type": "code",
   "execution_count": null,
   "id": "bc19d982",
   "metadata": {},
   "outputs": [],
   "source": []
  }
 ],
 "metadata": {
  "kernelspec": {
   "display_name": "Python 3 (ipykernel)",
   "language": "python",
   "name": "python3"
  },
  "language_info": {
   "codemirror_mode": {
    "name": "ipython",
    "version": 3
   },
   "file_extension": ".py",
   "mimetype": "text/x-python",
   "name": "python",
   "nbconvert_exporter": "python",
   "pygments_lexer": "ipython3",
   "version": "3.9.12"
  }
 },
 "nbformat": 4,
 "nbformat_minor": 5
}
