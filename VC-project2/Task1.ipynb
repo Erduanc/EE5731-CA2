{
 "cells": [
  {
   "cell_type": "code",
   "execution_count": 20,
   "id": "5f9db7e7",
   "metadata": {},
   "outputs": [],
   "source": [
    "import pygco\n",
    "import numpy as np\n",
    "import cv2\n",
    "from PIL import Image\n",
    "from pylab import *\n",
    "import matplotlib as mpl\n",
    "import matplotlib.pyplot as plt\n",
    "%matplotlib inline\n",
    "%config InlineBackend.figure_format = 'retina'\n",
    "\n",
    "SOURCE_COLOR = np.array([0,0,255])\n",
    "SINK_COLOR = np.array([245,210,110])\n",
    "nLabels = 2"
   ]
  },
  {
   "cell_type": "code",
   "execution_count": 21,
   "id": "8b8ceef7",
   "metadata": {},
   "outputs": [],
   "source": [
    "# read in the image:\n",
    "img = cv2.imread('bayes_in.jpg')\n",
    "siftCreater = cv2.SIFT_create()\n",
    "\n",
    "imgHeight = img.shape[0] # range of vertical rows\n",
    "imgWidth = img.shape[1] # range of horizontal columns\n",
    "\n",
    "nNodes = imgHeight*imgWidth\n",
    "nEdges = 2*imgHeight*imgWidth-imgHeight-imgWidth\n",
    "\n",
    "# keypoints, descriptors = siftCreater.detectAndCompute(img, None)\n",
    "\n",
    "# newImage = cv2.drawKeypoints(image=image, keypoints=keypoints, outImage=image, flags=cv2.DRAW_MATCHES_FLAGS_DRAW_RICH_KEYPOINTS)\n",
    "\n",
    "# plt.imshow(cv2.cvtColor(newImage,cv2.COLOR_BGR2RGB), interpolation='none')\n",
    "# plt.show()"
   ]
  },
  {
   "cell_type": "code",
   "execution_count": 22,
   "id": "a28f3749",
   "metadata": {},
   "outputs": [],
   "source": [
    "def getDataTermValue(d, Tx):\n",
    "    # d is the RGB value of a certain position\n",
    "    # Tx is source or sink labels that are already tranformed by T(x) to the RGB domain\n",
    "    return np.linalg.norm(d-Tx)"
   ]
  },
  {
   "cell_type": "code",
   "execution_count": 23,
   "id": "96c79406",
   "metadata": {},
   "outputs": [],
   "source": [
    "def getPriorTermAndValue(x1, x2):\n",
    "    return np.array([x1, x2]), 1"
   ]
  },
  {
   "cell_type": "code",
   "execution_count": 24,
   "id": "a84132fc",
   "metadata": {},
   "outputs": [],
   "source": [
    "# # Testing block:\n",
    "# x = np.array([1,1])\n",
    "# d = np.array([2,1])\n",
    "# getDataTermValue(x, d)"
   ]
  },
  {
   "cell_type": "code",
   "execution_count": 25,
   "id": "5c1fce77",
   "metadata": {},
   "outputs": [],
   "source": [
    "edges = np.zeros((nEdges, 2))\n",
    "edgeWeights = np.zeros((nEdges))\n",
    "unaryCost = np.zeros((nNodes, nLabels))\n"
   ]
  },
  {
   "cell_type": "code",
   "execution_count": null,
   "id": "5ca35592",
   "metadata": {},
   "outputs": [],
   "source": []
  }
 ],
 "metadata": {
  "kernelspec": {
   "display_name": "Python 3 (ipykernel)",
   "language": "python",
   "name": "python3"
  },
  "language_info": {
   "codemirror_mode": {
    "name": "ipython",
    "version": 3
   },
   "file_extension": ".py",
   "mimetype": "text/x-python",
   "name": "python",
   "nbconvert_exporter": "python",
   "pygments_lexer": "ipython3",
   "version": "3.9.12"
  }
 },
 "nbformat": 4,
 "nbformat_minor": 5
}
